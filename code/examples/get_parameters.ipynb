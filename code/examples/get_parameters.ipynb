{
  "nbformat": 4,
  "nbformat_minor": 0,
  "metadata": {
    "colab": {
      "provenance": []
    },
    "kernelspec": {
      "name": "python3",
      "display_name": "Python 3"
    },
    "language_info": {
      "name": "python"
    }
  },
  "cells": [
    {
      "cell_type": "code",
      "execution_count": 1,
      "metadata": {
        "id": "t4FpFmoBW9_E"
      },
      "outputs": [],
      "source": [
        "# Example on how to use the function get_parameters to have the damping and the natural frequency"
      ]
    },
    {
      "cell_type": "code",
      "source": [
        "!git clone https://github.com/catarinaluz/non_linear_beam.git\n",
        "!pip install geneticalgorithm2"
      ],
      "metadata": {
        "id": "uKrkV1nKXHEV",
        "colab": {
          "base_uri": "https://localhost:8080/"
        },
        "outputId": "c6c3e819-c09a-438a-f513-12a203e3a56a"
      },
      "execution_count": 2,
      "outputs": [
        {
          "output_type": "stream",
          "name": "stdout",
          "text": [
            "Cloning into 'non_linear_beam'...\n",
            "remote: Enumerating objects: 487, done.\u001b[K\n",
            "remote: Counting objects: 100% (125/125), done.\u001b[K\n",
            "remote: Compressing objects: 100% (76/76), done.\u001b[K\n",
            "remote: Total 487 (delta 49), reused 102 (delta 28), pack-reused 362\u001b[K\n",
            "Receiving objects: 100% (487/487), 13.85 MiB | 9.83 MiB/s, done.\n",
            "Resolving deltas: 100% (176/176), done.\n",
            "Collecting geneticalgorithm2\n",
            "  Downloading geneticalgorithm2-6.9.2-py3-none-any.whl (53 kB)\n",
            "\u001b[2K     \u001b[90m━━━━━━━━━━━━━━━━━━━━━━━━━━━━━━━━━━━━━━━━\u001b[0m \u001b[32m53.2/53.2 kB\u001b[0m \u001b[31m1.1 MB/s\u001b[0m eta \u001b[36m0:00:00\u001b[0m\n",
            "\u001b[?25hRequirement already satisfied: matplotlib in /usr/local/lib/python3.10/dist-packages (from geneticalgorithm2) (3.7.1)\n",
            "Requirement already satisfied: numpy in /usr/local/lib/python3.10/dist-packages (from geneticalgorithm2) (1.25.2)\n",
            "Requirement already satisfied: typing-extensions in /usr/local/lib/python3.10/dist-packages (from geneticalgorithm2) (4.12.1)\n",
            "Collecting OppOpPopInit>=2.0.1 (from geneticalgorithm2)\n",
            "  Downloading OppOpPopInit-2.0.1-py3-none-any.whl (15 kB)\n",
            "Requirement already satisfied: contourpy>=1.0.1 in /usr/local/lib/python3.10/dist-packages (from matplotlib->geneticalgorithm2) (1.2.1)\n",
            "Requirement already satisfied: cycler>=0.10 in /usr/local/lib/python3.10/dist-packages (from matplotlib->geneticalgorithm2) (0.12.1)\n",
            "Requirement already satisfied: fonttools>=4.22.0 in /usr/local/lib/python3.10/dist-packages (from matplotlib->geneticalgorithm2) (4.53.0)\n",
            "Requirement already satisfied: kiwisolver>=1.0.1 in /usr/local/lib/python3.10/dist-packages (from matplotlib->geneticalgorithm2) (1.4.5)\n",
            "Requirement already satisfied: packaging>=20.0 in /usr/local/lib/python3.10/dist-packages (from matplotlib->geneticalgorithm2) (24.0)\n",
            "Requirement already satisfied: pillow>=6.2.0 in /usr/local/lib/python3.10/dist-packages (from matplotlib->geneticalgorithm2) (9.4.0)\n",
            "Requirement already satisfied: pyparsing>=2.3.1 in /usr/local/lib/python3.10/dist-packages (from matplotlib->geneticalgorithm2) (3.1.2)\n",
            "Requirement already satisfied: python-dateutil>=2.7 in /usr/local/lib/python3.10/dist-packages (from matplotlib->geneticalgorithm2) (2.8.2)\n",
            "Requirement already satisfied: six>=1.5 in /usr/local/lib/python3.10/dist-packages (from python-dateutil>=2.7->matplotlib->geneticalgorithm2) (1.16.0)\n",
            "Installing collected packages: OppOpPopInit, geneticalgorithm2\n",
            "Successfully installed OppOpPopInit-2.0.1 geneticalgorithm2-6.9.2\n"
          ]
        }
      ]
    },
    {
      "cell_type": "code",
      "source": [
        "from non_linear_beam.code.module.nonlinearprocess import get_frequency_data, get_time_data, set_file_name, plot_fft, bandpass_filter, get_parameters\n",
        "import zipfile\n",
        "import matplotlib.pyplot as plt\n",
        "import numpy as np\n"
      ],
      "metadata": {
        "id": "C-KfMe-gXQUF"
      },
      "execution_count": 11,
      "outputs": []
    },
    {
      "cell_type": "code",
      "source": [
        "dir = \"/content/non_linear_beam/Experimental Data/\"\n",
        "\n",
        "time_mec_dir_t1 = set_file_name(dir, time = True, mec = True,test=1)\n",
        "\n",
        "time_mec_1, vel_mec_1 = get_time_data(time_mec_dir_t1)"
      ],
      "metadata": {
        "id": "pP1h5nJpXR3k"
      },
      "execution_count": 12,
      "outputs": []
    },
    {
      "cell_type": "code",
      "source": [
        "vel_mec_1_filt = bandpass_filter(time_mec_1, vel_mec_1,40, 200)"
      ],
      "metadata": {
        "id": "UwepZIS_XVGE"
      },
      "execution_count": 13,
      "outputs": []
    },
    {
      "cell_type": "code",
      "source": [
        "# Call the get_parameters function with the filtered data\n",
        "gamma_mec_1, w0_mec_1 = get_parameters(time_mec_1, vel_mec_1_filt)\n",
        "w0_mec_hz_1 = w0_mec_1 / (2 * np.pi)\n",
        "damp_ratio_mec_1 = gamma_mec_1 / (2 * w0_mec_1)\n",
        "\n",
        "# Print the results\n",
        "print(\"### Data WITHOUT magnetic force ###\")\n",
        "print(\"Damping coefficient: \", gamma_mec_1)\n",
        "print(\"Damping ratio (%): \", damp_ratio_mec_1 * 100)\n",
        "print(\"Natural frequency in rad/s: \", w0_mec_1)\n",
        "print(\"Natural frequency in Hz: \", w0_mec_hz_1)\n"
      ],
      "metadata": {
        "id": "y9cNlmSnXXiE",
        "colab": {
          "base_uri": "https://localhost:8080/"
        },
        "outputId": "85f4d8d6-283e-4f5a-fb3f-878fa80e4258"
      },
      "execution_count": 14,
      "outputs": [
        {
          "output_type": "stream",
          "name": "stdout",
          "text": [
            "### Data WITHOUT magnetic force ###\n",
            "Damping coefficient:  2.1206596732556107\n",
            "Damping ratio (%):  0.12069057333503415\n",
            "Natural frequency in rad/s:  878.5523237878364\n",
            "Natural frequency in Hz:  139.82594509570552\n"
          ]
        }
      ]
    }
  ]
}